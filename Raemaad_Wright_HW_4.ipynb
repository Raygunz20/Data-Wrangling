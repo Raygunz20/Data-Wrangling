{
  "cells": [
    {
      "cell_type": "markdown",
      "metadata": {
        "id": "view-in-github",
        "colab_type": "text"
      },
      "source": [
        "<a href=\"https://colab.research.google.com/github/Raygunz20/Data-Wrangling/blob/main/Raemaad_Wright_HW_4.ipynb\" target=\"_parent\"><img src=\"https://colab.research.google.com/assets/colab-badge.svg\" alt=\"Open In Colab\"/></a>"
      ]
    },
    {
      "cell_type": "code",
      "execution_count": null,
      "metadata": {
        "id": "nkpz6GYaxDmY"
      },
      "outputs": [],
      "source": [
        "# database\n",
        "import sqlite3"
      ]
    },
    {
      "cell_type": "code",
      "execution_count": null,
      "metadata": {
        "id": "i04_zW7NxDkJ"
      },
      "outputs": [],
      "source": [
        "# store data\n",
        "\n",
        "# create to do list table\n",
        "def create_todo_table(conn):\n",
        "    cursor = conn.cursor()\n",
        "    cursor.execute('''CREATE TABLE IF NOT EXISTS todos ( id INTEGER PRIMARY KEY, task TEXT NOT NULL, completed INTEGER DEFAULT 0)''')\n",
        "\n",
        "\n",
        "    conn.commit()"
      ]
    },
    {
      "cell_type": "code",
      "execution_count": null,
      "metadata": {
        "id": "pqdj80UkxDdR"
      },
      "outputs": [],
      "source": [
        "# interact/manipulate\n",
        "\n",
        "# add a new task to the todo list\n",
        "def add_task(conn, task):\n",
        "    cursor = conn.cursor()\n",
        "    cursor .execute('INSERT INTO todos (task) VALUES (?)', (task,))\n",
        "    conn.commit()\n",
        "\n",
        "# update the completion status of a task, I complete, 0 not complete\n",
        "def update_task_status(conn, task_id, completed):\n",
        "    cursor = conn.cursor()\n",
        "    cursor.execute('UPDATE todos SET completed = ? WHERE id = ?', (completed, task_id))\n",
        "    conn.commit()\n",
        "\n",
        "# delete a task from the todo list\n",
        "def delete_task(conn, task_id):\n",
        "    cursor = conn.cursor()\n",
        "    cursor.execute('DELETE FROM todos WHERE id = ?', (task_id,))\n",
        "    conn.commit()\n"
      ]
    },
    {
      "cell_type": "code",
      "execution_count": null,
      "metadata": {
        "id": "2NzHzsD1xDbs"
      },
      "outputs": [],
      "source": [
        "# retrtieve data\n",
        "\n",
        "# retrieve/view all of the tasks in the todo list\n",
        "def get_tasks(conn):\n",
        "    cursor = conn.cursor()\n",
        "    cursor.execute('SELECT * FROM todos')\n",
        "    tasks = cursor.fetchall()\n",
        "    return tasks"
      ]
    },
    {
      "cell_type": "code",
      "execution_count": null,
      "metadata": {
        "id": "8eBYAQNuxDZ4"
      },
      "outputs": [],
      "source": [
        "# Main function\n",
        "def main():\n",
        "\n",
        "    # connect to the SQLite database\n",
        "    conn = sqlite3.connect('todo.db')\n",
        "\n",
        "    # create the todo list table\n",
        "    create_todo_table(conn)\n",
        "\n",
        "    #loop until you exit\n",
        "    while True:\n",
        "        # menu interface for tasks\n",
        "        print(\"\\nTODO LIST\")\n",
        "        print(\"1. Add Task\")\n",
        "        print(\"2. View Tasks\")\n",
        "        print(\"3. Update Task Status\")\n",
        "        print(\"4. Delete Task\")\n",
        "        print(\"5. Exit\")\n",
        "\n",
        "\n",
        "        choice = input(\"Enter your choice: \")\n",
        "\n",
        "        if choice == '1':\n",
        "            task = input(\"Enter task: \")\n",
        "            add_task(conn, task)\n",
        "            print(\"Task added successfully!\")\n",
        "\n",
        "        elif choice == '2':\n",
        "            tasks = get_tasks(conn)\n",
        "            if not tasks:\n",
        "                print(\"No tasks found.\")\n",
        "\n",
        "            else:\n",
        "                for task in tasks:\n",
        "                    print(f\"{tasks[0]}. {task[1]} - {'Completed' if task[2] else 'Incomplete'}\")\n",
        "        elif choice == '3':\n",
        "            task_id = int(input(\"Enter task ID: \"))\n",
        "            completed = int(input(\"Enter completion status (1 for completed, 0 for incomplete): \"))\n",
        "            update_task_status(conn, task_id, completed)\n",
        "            print(\"Task status updated successfully!\")\n",
        "\n",
        "        elif choice == '4':\n",
        "            task_id = int(input(\"Enter task ID: \"))\n",
        "            delete_task(conn, task_id)\n",
        "            print(\"Task deleted successfully!\")\n",
        "\n",
        "        elif choice == '5':\n",
        "            print(\"Exiting...\")\n",
        "            break\n",
        "\n",
        "        else:\n",
        "            print(\"Invalid choice. Please try again.\")"
      ]
    },
    {
      "cell_type": "code",
      "execution_count": null,
      "metadata": {
        "colab": {
          "background_save": true,
          "base_uri": "https://localhost:8080/"
        },
        "id": "arNLwlsOxDXz",
        "outputId": "bd9266af-ed2d-40e5-ac9a-86dbf648bfed"
      },
      "outputs": [
        {
          "name": "stdout",
          "output_type": "stream",
          "text": [
            "\n",
            "TODO LIST\n",
            "1. Add Task\n",
            "2. View Tasks\n",
            "3. Update Task Status\n",
            "4. Delete Task\n",
            "5. Exit\n",
            "No tasks found.\n",
            "\n",
            "TODO LIST\n",
            "1. Add Task\n",
            "2. View Tasks\n",
            "3. Update Task Status\n",
            "4. Delete Task\n",
            "5. Exit\n",
            "Task added successfully!\n",
            "\n",
            "TODO LIST\n",
            "1. Add Task\n",
            "2. View Tasks\n",
            "3. Update Task Status\n",
            "4. Delete Task\n",
            "5. Exit\n",
            "(1, 'Watch NCAA tournament ', 0). Watch NCAA tournament  - Incomplete\n",
            "\n",
            "TODO LIST\n",
            "1. Add Task\n",
            "2. View Tasks\n",
            "3. Update Task Status\n",
            "4. Delete Task\n",
            "5. Exit\n"
          ]
        }
      ],
      "source": [
        "if __name__ == \"__main__\":\n",
        "    main()"
      ]
    },
    {
      "cell_type": "code",
      "execution_count": null,
      "metadata": {
        "id": "ZLsOdgoexDVt"
      },
      "outputs": [],
      "source": []
    },
    {
      "cell_type": "code",
      "execution_count": null,
      "metadata": {
        "id": "UY0McJgJxDTt"
      },
      "outputs": [],
      "source": []
    },
    {
      "cell_type": "code",
      "execution_count": null,
      "metadata": {
        "id": "gIMX8lWTw-g-"
      },
      "outputs": [],
      "source": []
    }
  ],
  "metadata": {
    "colab": {
      "provenance": [],
      "authorship_tag": "ABX9TyNk/eB+nwBoIk2szAcELv33",
      "include_colab_link": true
    },
    "kernelspec": {
      "display_name": "Python 3",
      "name": "python3"
    },
    "language_info": {
      "name": "python"
    }
  },
  "nbformat": 4,
  "nbformat_minor": 0
}